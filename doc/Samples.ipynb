{
 "cells": [
  {
   "cell_type": "markdown",
   "metadata": {},
   "source": [
    "# Sample use of TensorViz\n",
    "\n",
    "This notebook shows some example of how to use TensorViz to render into tensors.\n",
    "\n",
    "First, import `tenviz`. And other modules if need:"
   ]
  },
  {
   "cell_type": "code",
   "execution_count": 1,
   "metadata": {},
   "outputs": [],
   "source": [
    "import tenviz\n",
    "\n",
    "import torch\n",
    "import numpy as np"
   ]
  },
  {
   "cell_type": "markdown",
   "metadata": {},
   "source": [
    "The `tenviz.Context` manages the drawing data and rendering commands. Scripts may have multiple contexts. "
   ]
  },
  {
   "cell_type": "code",
   "execution_count": 2,
   "metadata": {},
   "outputs": [],
   "source": [
    "context = tenviz.Context()"
   ]
  },
  {
   "cell_type": "markdown",
   "metadata": {},
   "source": [
    "The `tenviz.io` package can load or write some popular formats:"
   ]
  },
  {
   "cell_type": "code",
   "execution_count": 3,
   "metadata": {},
   "outputs": [],
   "source": [
    "geo = tenviz.io.read_3dobject(\"../samples/data/mesh/teapot.off\")"
   ]
  },
  {
   "cell_type": "markdown",
   "metadata": {},
   "source": [
    "The `tenviz.io.read_3dobject` function returns a `tenviz.geometry.Geometry` instance with the attributes: `verts`, `normals`, `colors` and `faces`. They are PyTorch tensors on the CPU. The `verts` and `normals` are  `torch.float`, `colors` is `torch.uint8`, and `faces` is `torch.int32`. Only `verts` is guaranteed to be non `None`.\n",
    "\n",
    "The module `tenviz.geometry` has the `compute_normals` method for calculating vertex normal by triangle normals averaging:"
   ]
  },
  {
   "cell_type": "code",
   "execution_count": 4,
   "metadata": {},
   "outputs": [],
   "source": [
    "import tenviz.geometry\n",
    "geo.normals = tenviz.geometry.compute_normals(geo.verts, geo.faces)"
   ]
  },
  {
   "cell_type": "markdown",
   "metadata": {},
   "source": [
    "## Drawing a mesh and rendering to a tensor\n",
    "\n",
    "The first goal is to render the previously loaded mesh with the following vertex and fragment shaders:"
   ]
  },
  {
   "cell_type": "code",
   "execution_count": 5,
   "metadata": {},
   "outputs": [
    {
     "name": "stdout",
     "output_type": "stream",
     "text": [
      "#version 420\r\n",
      "\r\n",
      "in vec4 position;\r\n",
      "uniform mat4 ProjModelview;\r\n",
      "\r\n",
      "void main() {\r\n",
      "  gl_Position = ProjModelview * position;\r\n",
      "}"
     ]
    }
   ],
   "source": [
    "!cat ../samples/shaders/simple.vert"
   ]
  },
  {
   "cell_type": "code",
   "execution_count": 6,
   "metadata": {},
   "outputs": [
    {
     "name": "stdout",
     "output_type": "stream",
     "text": [
      "#version 420\r\n",
      "\r\n",
      "out vec4 frag_color;\r\n",
      "\r\n",
      "uniform vec4 color;\r\n",
      "\r\n",
      "void main() {\r\n",
      "\t frag_color = color;\r\n",
      "}"
     ]
    }
   ],
   "source": [
    "!cat ../samples/shaders/simple.frag"
   ]
  },
  {
   "cell_type": "markdown",
   "metadata": {},
   "source": [
    "TensorViz allows to easily bind shaders attributes, uniforms or samplers:"
   ]
  },
  {
   "cell_type": "code",
   "execution_count": 7,
   "metadata": {},
   "outputs": [],
   "source": [
    "with context.current():\n",
    "    # Create a DrawProgram. It's a central class to TensorViz. All drawing operations\n",
    "    # are made using it.\n",
    "    program = tenviz.DrawProgram(tenviz.DrawMode.Triangles,\n",
    "                                 vert_shader_file=\"../samples/shaders/simple.vert\",\n",
    "                                 frag_shader_file=\"../samples/shaders/simple.frag\")\n",
    "\n",
    "    # Sets the vertex attribute\n",
    "    # using the geo.verts tensor\n",
    "    program[\"position\"] = geo.verts\n",
    "\n",
    "    # TensorViz has place holders for view matrices from the viewer or passed by the user.\n",
    "    program[\"ProjModelview\"] = tenviz.MatPlaceholder.ProjectionModelview\n",
    "\n",
    "    # Uniforms can also be set\n",
    "    program[\"color\"] = torch.tensor(\n",
    "        [0.8, 0.2, 0.2, 1.0], dtype=torch.float)\n",
    "    program.indices.from_tensor(geo.faces)"
   ]
  },
  {
   "cell_type": "markdown",
   "metadata": {},
   "source": [
    "* Most operations are necessary to be under a context. The `context.current` returns a Python's context manager for declaring that all operations bellow the `with` statement belongs to the given context.\n"
   ]
  },
  {
   "cell_type": "markdown",
   "metadata": {},
   "source": [
    "## Rendering to tensors\n",
    "\n",
    "This is a common operation for projects using shaders for general computing and 3D vision. \n",
    "\n",
    "First, create a framebuffer on the target context: "
   ]
  },
  {
   "cell_type": "code",
   "execution_count": 8,
   "metadata": {},
   "outputs": [],
   "source": [
    "with context.current():\n",
    "    framebuffer = tenviz.create_framebuffer({0: tenviz.FramebufferTarget.RGBUint8})"
   ]
  },
  {
   "cell_type": "markdown",
   "metadata": {},
   "source": [
    "In shaders, a framebuffer can be associated with multiple targets. Each integer key from the input dict corresponds to one of the `layout(location = <key>)` on the GLSL shader. The first fragment shader file doesn't contain that, in that case then the default target is `0`. The dict value specifies the target type, the standard RGB byte frame bufer is asked (`tenviz.FramebufferTarget.RGBUint8`).\n",
    "\n",
    "The next lines will set up the projection and modelview matrices."
   ]
  },
  {
   "cell_type": "code",
   "execution_count": 9,
   "metadata": {},
   "outputs": [],
   "source": [
    "proj_matrix = tenviz.Projection.perspective(45, 1, 10, aspect=1).to_matrix()\n",
    "\n",
    "center = geo.verts.mean(0)\n",
    "view_matrix = np.array([[1, 0, 0, -center[0]],\n",
    "                        [0, 1, 0, -center[1]],\n",
    "                        [0, 0, 1, -3],\n",
    "                        [0, 0, 0, 1]])\n"
   ]
  },
  {
   "cell_type": "markdown",
   "metadata": {},
   "source": [
    "Finally rendering is done calling the `render` method, passing the matrices, framebuffer and scene:"
   ]
  },
  {
   "cell_type": "code",
   "execution_count": 10,
   "metadata": {},
   "outputs": [],
   "source": [
    "context.render(proj_matrix, view_matrix, framebuffer, [program])"
   ]
  },
  {
   "cell_type": "markdown",
   "metadata": {},
   "source": [
    "The specified targets during framebuffer constructor will generate a key that returns its target's texture object:"
   ]
  },
  {
   "cell_type": "code",
   "execution_count": 11,
   "metadata": {},
   "outputs": [
    {
     "name": "stdout",
     "output_type": "stream",
     "text": [
      "<tenviz._ctenviz.Texture object at 0x7f9d72d0c230>\n"
     ]
    }
   ],
   "source": [
    "fb_texture = framebuffer[0]\n",
    "print(fb_texture)"
   ]
  },
  {
   "cell_type": "markdown",
   "metadata": {},
   "source": [
    "To convert textures to tensor, use the `to_tensor` method. Note that the context must be current:"
   ]
  },
  {
   "cell_type": "code",
   "execution_count": 12,
   "metadata": {},
   "outputs": [],
   "source": [
    "with context.current():\n",
    "    fb_tensor = fb_texture.to_tensor()"
   ]
  },
  {
   "cell_type": "markdown",
   "metadata": {},
   "source": [
    "The object then can be used as any other tensor:"
   ]
  },
  {
   "cell_type": "code",
   "execution_count": 13,
   "metadata": {},
   "outputs": [
    {
     "data": {
      "image/png": "[encoded data removed]",
      "text/plain": [
       "<Figure size 432x288 with 1 Axes>"
      ]
     },
     "metadata": {
      "needs_background": "light"
     },
     "output_type": "display_data"
    }
   ],
   "source": [
    "import matplotlib.pyplot as plt\n",
    "plt.imshow(fb_tensor.cpu().numpy())\n",
    "plt.show()"
   ]
  },
  {
   "cell_type": "markdown",
   "metadata": {},
   "source": [
    "## Multiple rendering targets\n",
    "\n",
    "As stated previously, framebuffer may have many targets. For example, the following fragment shader specify them explicitly:"
   ]
  },
  {
   "cell_type": "code",
   "execution_count": 14,
   "metadata": {},
   "outputs": [
    {
     "name": "stdout",
     "output_type": "stream",
     "text": [
      "#version 420\r\n",
      "\r\n",
      "layout(location = 0) out vec4 out_rgba8;\r\n",
      "layout(location = 1) out vec4 out_rgba32f;\r\n",
      "layout(location = 2) out vec4 out_rgba32i;\r\n",
      "layout(location = 3) out int out_ri;\r\n",
      "\r\n",
      "void main() {\r\n",
      "  out_rgba8 = vec4(255, 0, 0, 1);\r\n",
      "  out_rgba32f = vec4(0, 1.0, 0.0, 1);\r\n",
      "  out_rgba32i = vec4(0, 0, 2000, 1);\r\n",
      "  out_ri = 100;\r\n",
      "}\r\n"
     ]
    }
   ],
   "source": [
    "!cat ../samples/shaders/multiple_out.frag"
   ]
  },
  {
   "cell_type": "markdown",
   "metadata": {},
   "source": [
    "Create a new program for the `multiple_out` shaders: "
   ]
  },
  {
   "cell_type": "code",
   "execution_count": 15,
   "metadata": {},
   "outputs": [],
   "source": [
    "with context.current():\n",
    "    program = tenviz.DrawProgram(tenviz.DrawMode.Triangles,\n",
    "                                 vert_shader_file=\"../samples/shaders/multiple_out.vert\",\n",
    "                                 frag_shader_file=\"../samples/shaders/multiple_out.frag\")\n",
    "\n",
    "    program[\"position\"] = geo.verts\n",
    "\n",
    "    program[\"ProjModelview\"] = tenviz.MatPlaceholder.ProjectionModelview\n",
    "\n",
    "    program.indices.from_tensor(geo.faces)"
   ]
  },
  {
   "cell_type": "markdown",
   "metadata": {},
   "source": [
    "Now the framebuffer's creation dict should reflect the fragment's `layout(location = <key>)`  section. "
   ]
  },
  {
   "cell_type": "code",
   "execution_count": 16,
   "metadata": {},
   "outputs": [
    {
     "name": "stderr",
     "output_type": "stream",
     "text": [
      "Clipping input data to the valid range for imshow with RGB data ([0..1] for floats or [0..255] for integers).\n"
     ]
    },
    {
     "data": {
      "image/png": "[encoded data removed]",
      "text/plain": [
       "<Figure size 432x288 with 4 Axes>"
      ]
     },
     "metadata": {
      "needs_background": "light"
     },
     "output_type": "display_data"
    }
   ],
   "source": [
    "with context.current():\n",
    "    framebuffer = tenviz.create_framebuffer({\n",
    "        0: tenviz.FramebufferTarget.RGBUint8,\n",
    "        1: tenviz.FramebufferTarget.RGBAFloat,\n",
    "        2: tenviz.FramebufferTarget.RGBInt32,\n",
    "        3: tenviz.FramebufferTarget.RInt32\n",
    "    })    \n",
    "    \n",
    "context.render(proj_matrix, view_matrix, framebuffer, [program])\n",
    "\n",
    "# Retrieve each framebuffer target textures.\n",
    "with context.current():\n",
    "    rgbu8 = framebuffer[0].to_tensor().cpu().numpy()\n",
    "    rgbaf = framebuffer[1].to_tensor().cpu().numpy()\n",
    "    rgbai32 = framebuffer[2].to_tensor(non_blocking=False).clone().cpu().numpy()\n",
    "    ri32 = framebuffer[3].to_tensor().cpu().numpy()\n",
    "\n",
    "plt.subplot(2, 2, 1)\n",
    "plt.imshow(rgbu8)\n",
    "\n",
    "plt.subplot(2, 2, 2)\n",
    "plt.imshow(rgbaf)\n",
    "\n",
    "plt.subplot(2, 2, 3)\n",
    "plt.imshow(rgbai32)\n",
    "\n",
    "plt.subplot(2, 2, 4)\n",
    "plt.imshow(ri32.squeeze())\n",
    "\n",
    "plt.show()"
   ]
  },
  {
   "cell_type": "markdown",
   "metadata": {},
   "source": [
    "## Loading textures"
   ]
  },
  {
   "cell_type": "markdown",
   "metadata": {},
   "source": [
    "Textures are created from tensors with the `tenviz.tex_from_tensor` function:"
   ]
  },
  {
   "cell_type": "code",
   "execution_count": 17,
   "metadata": {},
   "outputs": [],
   "source": [
    "import PIL\n",
    "image = torch.from_numpy(np.array(PIL.Image.open(\"../samples/data/images/tex1.png\")))\n",
    "with context.current():\n",
    "    texture = tenviz.tex_from_tensor(image)"
   ]
  },
  {
   "cell_type": "code",
   "execution_count": 18,
   "metadata": {},
   "outputs": [
    {
     "name": "stdout",
     "output_type": "stream",
     "text": [
      "k2D Texture of width 256, height 256 of type Uint8 \n"
     ]
    }
   ],
   "source": [
    "print(texture)"
   ]
  },
  {
   "cell_type": "markdown",
   "metadata": {},
   "source": [
    "## Use the same buffers on multiple programs"
   ]
  },
  {
   "cell_type": "markdown",
   "metadata": {},
   "source": [
    "Native API buffers can be created and distributed to programs. Use the `tenviz.buffer_from_tensor` method: "
   ]
  },
  {
   "cell_type": "code",
   "execution_count": 19,
   "metadata": {},
   "outputs": [
    {
     "data": {
      "image/png": "[encoded data removed]",
      "text/plain": [
       "<Figure size 432x288 with 1 Axes>"
      ]
     },
     "metadata": {
      "needs_background": "light"
     },
     "output_type": "display_data"
    }
   ],
   "source": [
    "with context.current():\n",
    "    verts = tenviz.buffer_from_tensor(geo.verts)\n",
    "    normals = tenviz.buffer_from_tensor(geo.normals)\n",
    "    indices = tenviz.buffer_from_tensor(geo.faces, target=tenviz.BufferTarget.Element,\n",
    "                                       usage=tenviz.BufferUsage.Static)\n",
    "    \n",
    "    program1 = tenviz.DrawProgram(tenviz.DrawMode.Triangles,\n",
    "                                  vert_shader_file=\"../samples/shaders/phong.vert\",\n",
    "                                  frag_shader_file=\"../samples/shaders/phong.frag\")\n",
    "    # Vertex parameters\n",
    "    program1[\"in_position\"] = verts\n",
    "    program1[\"in_normal\"] = normals\n",
    "    \n",
    "    # program[\"in_texcoord\"] = geo.texcoords\n",
    "    program1[\"Lightpos\"] = torch.tensor([0, 4, 0, 1], dtype=torch.float)\n",
    "    program1[\"Modelview\"] = tenviz.MatPlaceholder.Modelview\n",
    "    program1[\"NormalModelview\"] = tenviz.MatPlaceholder.NormalModelview\n",
    "    program1[\"ProjModelview\"] = tenviz.MatPlaceholder.ProjectionModelview\n",
    "\n",
    "    # Fragment shader parameters\n",
    "    program1[\"AmbientColor\"] = torch.tensor([0.2, 0.2, 0.2, 1], dtype=torch.float)\n",
    "    program1[\"DiffuseColor\"] = torch.tensor([0.75, 0.8, 0.8, 1], dtype=torch.float)\n",
    "    program1[\"SpecularColor\"] = torch.tensor([1, 1, 1, 1], dtype=torch.float)\n",
    "    program1[\"SpecularExp\"] = float(127)\n",
    "    \n",
    "    program1[\"Tex\"] = texture\n",
    "    program1.indices = indices\n",
    "    \n",
    "    program2 = tenviz.DrawProgram(tenviz.DrawMode.Triangles,\n",
    "                                  vert_shader_file=\"../samples/shaders/simple.vert\",\n",
    "                                  frag_shader_file=\"../samples/shaders/simple.frag\")\n",
    "    # Vertex parameters\n",
    "    program2[\"position\"] = verts\n",
    "    # program2[\"normals\"] = normals\n",
    "    program2[\"ProjModelview\"] = tenviz.MatPlaceholder.ProjectionModelview\n",
    "    program2[\"color\"] = torch.tensor(\n",
    "        [0.8, 0.2, 0.2, 1.0], dtype=torch.float)\n",
    "    program2.indices = indices\n",
    "    \n",
    "    program1.transform = np.array([[1, 0, 0, -.5],\n",
    "                                   [0, 1, 0, 0],\n",
    "                                   [0, 0, 1, 0],\n",
    "                                   [0, 0, 0, 1]])\n",
    "    program2.transform = np.array([[1, 0, 0, .5],\n",
    "                                   [0, 1, 0, 0],\n",
    "                                   [0, 0, 1, 0],\n",
    "                                   [0, 0, 0, 1]])\n",
    "    \n",
    "    context.render(proj_matrix, view_matrix, framebuffer, [program1, program2])\n",
    "    \n",
    "    fb_tensor = framebuffer[0].to_tensor().cpu().numpy()\n",
    "    plt.imshow(fb_tensor)"
   ]
  },
  {
   "cell_type": "markdown",
   "metadata": {},
   "source": [
    "## Mapping buffers as tensor\n",
    "\n",
    "Another feature of TensorViz is mapping graphics buffers as GPU tensors without copying:"
   ]
  },
  {
   "cell_type": "code",
   "execution_count": 20,
   "metadata": {},
   "outputs": [
    {
     "name": "stdout",
     "output_type": "stream",
     "text": [
      "cuda:0\n"
     ]
    },
    {
     "data": {
      "image/png": "[encoded data removed]",
      "text/plain": [
       "<Figure size 432x288 with 1 Axes>"
      ]
     },
     "metadata": {
      "needs_background": "light"
     },
     "output_type": "display_data"
    }
   ],
   "source": [
    "with context.current():\n",
    "    with verts.as_tensor() as th_verts:\n",
    "        print(th_verts.device)\n",
    "        th_verts[:, 0] *= 1.5\n",
    "        \n",
    "program1.transform = np.eye(4, dtype=np.float32)\n",
    "\n",
    "context.render(proj_matrix, view_matrix, framebuffer, [program1])\n",
    "with context.current():    \n",
    "    plt.imshow(framebuffer[0].to_tensor().cpu().numpy())\n",
    "    \n",
    "plt.show()"
   ]
  }
 ],
 "metadata": {
  "kernelspec": {
   "display_name": "Python 3",
   "language": "python",
   "name": "python3"
  },
  "language_info": {
   "codemirror_mode": {
    "name": "ipython",
    "version": 3
   },
   "file_extension": ".py",
   "mimetype": "text/x-python",
   "name": "python",
   "nbconvert_exporter": "python",
   "pygments_lexer": "ipython3",
   "version": "3.7.6"
  }
 },
 "nbformat": 4,
 "nbformat_minor": 2
}
